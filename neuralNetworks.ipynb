{
 "cells": [
  {
   "cell_type": "markdown",
   "metadata": {},
   "source": [
    "# Neuron Classification Using Neural Networks in Julia\n",
    "\n",
    "This project demonstrates how to classify neurons based on their firing patterns using a simple neural network implemented in Julia. It covers various aspects of data science, machine learning, and computational neuroscience.\n",
    "\n",
    "## Step 1 - Generate Synthetic Data\n",
    "\n",
    "Start by generating a synthetic dataset of neurons. Each neuron has a unique ID, a firing rate (how often it sends a signal), and a type (either excitatory or inhibitory)."
   ]
  },
  {
   "cell_type": "code",
   "execution_count": 1,
   "metadata": {},
   "outputs": [
    {
     "data": {
      "text/plain": [
       "\"neuron_data.csv\""
      ]
     },
     "metadata": {},
     "output_type": "display_data"
    }
   ],
   "source": [
    "using Random, CSV, DataFrames\n",
    "\n",
    "function generate_data(n::Int)\n",
    "    data = DataFrame(id = 1:n, firing_rate = rand(50:150, n), class = rand([\"Excitatory\", \"Inhibitory\"], n))\n",
    "    CSV.write(\"neuron_data.csv\", data)\n",
    "end\n",
    "\n",
    "# Generate data\n",
    "generate_data(1000)"
   ]
  },
  {
   "cell_type": "markdown",
   "metadata": {},
   "source": [
    "## Step 2 - Load and Explore the Data\n",
    "\n",
    "Next, the generated data loads from the CSV file and displays the first few rows to understand its structure. Then the data is explored by summarizing its statistics."
   ]
  },
  {
   "cell_type": "code",
   "execution_count": 2,
   "metadata": {},
   "outputs": [
    {
     "name": "stdout",
     "output_type": "stream",
     "text": [
      "\u001b[1m5×3 DataFrame\u001b[0m\n",
      "\u001b[1m Row \u001b[0m│\u001b[1m id    \u001b[0m\u001b[1m firing_rate \u001b[0m\u001b[1m class      \u001b[0m\n",
      "     │\u001b[90m Int64 \u001b[0m\u001b[90m Int64       \u001b[0m\u001b[90m String15   \u001b[0m\n",
      "─────┼────────────────────────────────\n",
      "   1 │     1          147  Excitatory\n",
      "   2 │     2          126  Inhibitory\n",
      "   3 │     3          106  Inhibitory\n",
      "   4 │     4           84  Excitatory\n",
      "   5 │     5           90  Excitatory\n",
      "\u001b[1m3×7 DataFrame\u001b[0m\n",
      "\u001b[1m Row \u001b[0m│\u001b[1m variable    \u001b[0m\u001b[1m mean   \u001b[0m\u001b[1m min        \u001b[0m\u001b[1m median \u001b[0m\u001b[1m max        \u001b[0m\u001b[1m nmissing \u001b[0m\u001b[1m eltype   \u001b[0m\n",
      "     │\u001b[90m Symbol      \u001b[0m\u001b[90m Union… \u001b[0m\u001b[90m Any        \u001b[0m\u001b[90m Union… \u001b[0m\u001b[90m Any        \u001b[0m\u001b[90m Int64    \u001b[0m\u001b[90m DataType \u001b[0m\n",
      "─────┼─────────────────────────────────────────────────────────────────────────\n",
      "   1 │ id           500.5   1           500.5   1000               0  Int64\n",
      "   2 │ firing_rate  99.246  50          99.0    150                0  Int64\n",
      "   3 │ class       \u001b[90m        \u001b[0m Excitatory \u001b[90m        \u001b[0m Inhibitory         0  String15\n"
     ]
    }
   ],
   "source": [
    "using CSV, DataFrames\n",
    "\n",
    "# Load the data and display the first 5 rows\n",
    "data = CSV.read(\"neuron_data.csv\", DataFrame)\n",
    "println(first(data, 5))\n",
    "\n",
    "# Explore the data\n",
    "println(describe(data))"
   ]
  },
  {
   "cell_type": "markdown",
   "metadata": {},
   "source": [
    "## Step 3 - Data Processing\n",
    "\n",
    "The data needs to be processed to make it suitable for training a neural network. This involves converting the neuron types into a format that the neural network can understand and splitting the data into training and testing sets."
   ]
  },
  {
   "cell_type": "code",
   "execution_count": 3,
   "metadata": {},
   "outputs": [
    {
     "data": {
      "text/html": [
       "<div><div style = \"float: left;\"><span>200×3 DataFrame</span></div><div style = \"float: right;\"><span style = \"font-style: italic;\">175 rows omitted</span></div><div style = \"clear: both;\"></div></div><div class = \"data-frame\" style = \"overflow-x: scroll;\"><table class = \"data-frame\" style = \"margin-bottom: 6px;\"><thead><tr class = \"header\"><th class = \"rowNumber\" style = \"font-weight: bold; text-align: right;\">Row</th><th style = \"text-align: left;\">id</th><th style = \"text-align: left;\">firing_rate</th><th style = \"text-align: left;\">class</th></tr><tr class = \"subheader headerLastRow\"><th class = \"rowNumber\" style = \"font-weight: bold; text-align: right;\"></th><th title = \"Int64\" style = \"text-align: left;\">Int64</th><th title = \"Int64\" style = \"text-align: left;\">Int64</th><th title = \"CategoricalArrays.CategoricalValue{String15, UInt32}\" style = \"text-align: left;\">Cat…</th></tr></thead><tbody><tr><td class = \"rowNumber\" style = \"font-weight: bold; text-align: right;\">1</td><td style = \"text-align: right;\">649</td><td style = \"text-align: right;\">109</td><td style = \"text-align: left;\">Excitatory</td></tr><tr><td class = \"rowNumber\" style = \"font-weight: bold; text-align: right;\">2</td><td style = \"text-align: right;\">849</td><td style = \"text-align: right;\">129</td><td style = \"text-align: left;\">Inhibitory</td></tr><tr><td class = \"rowNumber\" style = \"font-weight: bold; text-align: right;\">3</td><td style = \"text-align: right;\">855</td><td style = \"text-align: right;\">101</td><td style = \"text-align: left;\">Inhibitory</td></tr><tr><td class = \"rowNumber\" style = \"font-weight: bold; text-align: right;\">4</td><td style = \"text-align: right;\">467</td><td style = \"text-align: right;\">60</td><td style = \"text-align: left;\">Excitatory</td></tr><tr><td class = \"rowNumber\" style = \"font-weight: bold; text-align: right;\">5</td><td style = \"text-align: right;\">105</td><td style = \"text-align: right;\">66</td><td style = \"text-align: left;\">Inhibitory</td></tr><tr><td class = \"rowNumber\" style = \"font-weight: bold; text-align: right;\">6</td><td style = \"text-align: right;\">810</td><td style = \"text-align: right;\">55</td><td style = \"text-align: left;\">Excitatory</td></tr><tr><td class = \"rowNumber\" style = \"font-weight: bold; text-align: right;\">7</td><td style = \"text-align: right;\">326</td><td style = \"text-align: right;\">51</td><td style = \"text-align: left;\">Inhibitory</td></tr><tr><td class = \"rowNumber\" style = \"font-weight: bold; text-align: right;\">8</td><td style = \"text-align: right;\">287</td><td style = \"text-align: right;\">113</td><td style = \"text-align: left;\">Excitatory</td></tr><tr><td class = \"rowNumber\" style = \"font-weight: bold; text-align: right;\">9</td><td style = \"text-align: right;\">179</td><td style = \"text-align: right;\">61</td><td style = \"text-align: left;\">Excitatory</td></tr><tr><td class = \"rowNumber\" style = \"font-weight: bold; text-align: right;\">10</td><td style = \"text-align: right;\">505</td><td style = \"text-align: right;\">76</td><td style = \"text-align: left;\">Inhibitory</td></tr><tr><td class = \"rowNumber\" style = \"font-weight: bold; text-align: right;\">11</td><td style = \"text-align: right;\">739</td><td style = \"text-align: right;\">93</td><td style = \"text-align: left;\">Excitatory</td></tr><tr><td class = \"rowNumber\" style = \"font-weight: bold; text-align: right;\">12</td><td style = \"text-align: right;\">665</td><td style = \"text-align: right;\">90</td><td style = \"text-align: left;\">Excitatory</td></tr><tr><td class = \"rowNumber\" style = \"font-weight: bold; text-align: right;\">13</td><td style = \"text-align: right;\">879</td><td style = \"text-align: right;\">50</td><td style = \"text-align: left;\">Excitatory</td></tr><tr><td style = \"text-align: right;\">&vellip;</td><td style = \"text-align: right;\">&vellip;</td><td style = \"text-align: right;\">&vellip;</td><td style = \"text-align: right;\">&vellip;</td></tr><tr><td class = \"rowNumber\" style = \"font-weight: bold; text-align: right;\">189</td><td style = \"text-align: right;\">400</td><td style = \"text-align: right;\">50</td><td style = \"text-align: left;\">Excitatory</td></tr><tr><td class = \"rowNumber\" style = \"font-weight: bold; text-align: right;\">190</td><td style = \"text-align: right;\">853</td><td style = \"text-align: right;\">63</td><td style = \"text-align: left;\">Inhibitory</td></tr><tr><td class = \"rowNumber\" style = \"font-weight: bold; text-align: right;\">191</td><td style = \"text-align: right;\">528</td><td style = \"text-align: right;\">107</td><td style = \"text-align: left;\">Inhibitory</td></tr><tr><td class = \"rowNumber\" style = \"font-weight: bold; text-align: right;\">192</td><td style = \"text-align: right;\">39</td><td style = \"text-align: right;\">120</td><td style = \"text-align: left;\">Inhibitory</td></tr><tr><td class = \"rowNumber\" style = \"font-weight: bold; text-align: right;\">193</td><td style = \"text-align: right;\">968</td><td style = \"text-align: right;\">124</td><td style = \"text-align: left;\">Inhibitory</td></tr><tr><td class = \"rowNumber\" style = \"font-weight: bold; text-align: right;\">194</td><td style = \"text-align: right;\">867</td><td style = \"text-align: right;\">112</td><td style = \"text-align: left;\">Excitatory</td></tr><tr><td class = \"rowNumber\" style = \"font-weight: bold; text-align: right;\">195</td><td style = \"text-align: right;\">453</td><td style = \"text-align: right;\">68</td><td style = \"text-align: left;\">Excitatory</td></tr><tr><td class = \"rowNumber\" style = \"font-weight: bold; text-align: right;\">196</td><td style = \"text-align: right;\">262</td><td style = \"text-align: right;\">93</td><td style = \"text-align: left;\">Excitatory</td></tr><tr><td class = \"rowNumber\" style = \"font-weight: bold; text-align: right;\">197</td><td style = \"text-align: right;\">547</td><td style = \"text-align: right;\">88</td><td style = \"text-align: left;\">Excitatory</td></tr><tr><td class = \"rowNumber\" style = \"font-weight: bold; text-align: right;\">198</td><td style = \"text-align: right;\">805</td><td style = \"text-align: right;\">61</td><td style = \"text-align: left;\">Inhibitory</td></tr><tr><td class = \"rowNumber\" style = \"font-weight: bold; text-align: right;\">199</td><td style = \"text-align: right;\">480</td><td style = \"text-align: right;\">68</td><td style = \"text-align: left;\">Inhibitory</td></tr><tr><td class = \"rowNumber\" style = \"font-weight: bold; text-align: right;\">200</td><td style = \"text-align: right;\">732</td><td style = \"text-align: right;\">66</td><td style = \"text-align: left;\">Excitatory</td></tr></tbody></table></div>"
      ],
      "text/latex": [
       "\\begin{tabular}{r|ccc}\n",
       "\t& id & firing\\_rate & class\\\\\n",
       "\t\\hline\n",
       "\t& Int64 & Int64 & Cat…\\\\\n",
       "\t\\hline\n",
       "\t1 & 649 & 109 & Excitatory \\\\\n",
       "\t2 & 849 & 129 & Inhibitory \\\\\n",
       "\t3 & 855 & 101 & Inhibitory \\\\\n",
       "\t4 & 467 & 60 & Excitatory \\\\\n",
       "\t5 & 105 & 66 & Inhibitory \\\\\n",
       "\t6 & 810 & 55 & Excitatory \\\\\n",
       "\t7 & 326 & 51 & Inhibitory \\\\\n",
       "\t8 & 287 & 113 & Excitatory \\\\\n",
       "\t9 & 179 & 61 & Excitatory \\\\\n",
       "\t10 & 505 & 76 & Inhibitory \\\\\n",
       "\t11 & 739 & 93 & Excitatory \\\\\n",
       "\t12 & 665 & 90 & Excitatory \\\\\n",
       "\t13 & 879 & 50 & Excitatory \\\\\n",
       "\t14 & 169 & 134 & Excitatory \\\\\n",
       "\t15 & 536 & 124 & Inhibitory \\\\\n",
       "\t16 & 780 & 66 & Inhibitory \\\\\n",
       "\t17 & 1000 & 83 & Inhibitory \\\\\n",
       "\t18 & 96 & 116 & Excitatory \\\\\n",
       "\t19 & 623 & 101 & Excitatory \\\\\n",
       "\t20 & 548 & 136 & Inhibitory \\\\\n",
       "\t21 & 869 & 133 & Inhibitory \\\\\n",
       "\t22 & 345 & 124 & Excitatory \\\\\n",
       "\t23 & 223 & 104 & Inhibitory \\\\\n",
       "\t24 & 206 & 113 & Inhibitory \\\\\n",
       "\t$\\dots$ & $\\dots$ & $\\dots$ & $\\dots$ \\\\\n",
       "\\end{tabular}\n"
      ],
      "text/plain": [
       "\u001b[1m200×3 DataFrame\u001b[0m\n",
       "\u001b[1m Row \u001b[0m│\u001b[1m id    \u001b[0m\u001b[1m firing_rate \u001b[0m\u001b[1m class      \u001b[0m\n",
       "     │\u001b[90m Int64 \u001b[0m\u001b[90m Int64       \u001b[0m\u001b[90m Cat…       \u001b[0m\n",
       "─────┼────────────────────────────────\n",
       "   1 │   649          109  Excitatory\n",
       "   2 │   849          129  Inhibitory\n",
       "   3 │   855          101  Inhibitory\n",
       "   4 │   467           60  Excitatory\n",
       "   5 │   105           66  Inhibitory\n",
       "   6 │   810           55  Excitatory\n",
       "   7 │   326           51  Inhibitory\n",
       "   8 │   287          113  Excitatory\n",
       "  ⋮  │   ⋮         ⋮           ⋮\n",
       " 194 │   867          112  Excitatory\n",
       " 195 │   453           68  Excitatory\n",
       " 196 │   262           93  Excitatory\n",
       " 197 │   547           88  Excitatory\n",
       " 198 │   805           61  Inhibitory\n",
       " 199 │   480           68  Inhibitory\n",
       " 200 │   732           66  Excitatory\n",
       "\u001b[36m                      185 rows omitted\u001b[0m"
      ]
     },
     "metadata": {},
     "output_type": "display_data"
    }
   ],
   "source": [
    "using MLJ\n",
    "\n",
    "# Encode categorical variables\n",
    "data.class = coerce(data.class, Multiclass)\n",
    "\n",
    "# Split the data\n",
    "using MLJBase\n",
    "\n",
    "train, test = partition(eachindex(data.id), 0.8, shuffle=true)\n",
    "train_data = data[train, :]\n",
    "test_data = data[test, :]"
   ]
  },
  {
   "cell_type": "markdown",
   "metadata": {},
   "source": [
    "## Step 4 - Define the Neural Network Model\n",
    "\n",
    "Define a simple neural network using the Flux library. This network will learn to classify neurons based on their firing rates.\n"
   ]
  },
  {
   "cell_type": "code",
   "execution_count": 4,
   "metadata": {},
   "outputs": [
    {
     "data": {
      "text/plain": [
       "Chain(\n",
       "  Dense(1 => 10, relu),                 \u001b[90m# 20 parameters\u001b[39m\n",
       "  Dense(10 => 2),                       \u001b[90m# 22 parameters\u001b[39m\n",
       "  NNlib.softmax,\n",
       ") \u001b[90m                  # Total: 4 arrays, \u001b[39m42 parameters, 376 bytes."
      ]
     },
     "metadata": {},
     "output_type": "display_data"
    }
   ],
   "source": [
    "using Flux\n",
    "using Optimisers  # Import optimisers for ADAM\n",
    "\n",
    "model = Chain(\n",
    "    Dense(1, 10, relu),\n",
    "    Dense(10, 2),\n",
    "    softmax\n",
    ")"
   ]
  },
  {
   "cell_type": "markdown",
   "metadata": {},
   "source": [
    "## Step 5 - Train the Neural Network\n",
    "\n",
    "Prepare the training data and train the neural network. The network adjusts its internal settings to learn how to classify neurons.\n"
   ]
  },
  {
   "cell_type": "code",
   "execution_count": 5,
   "metadata": {},
   "outputs": [
    {
     "name": "stdout",
     "output_type": "stream",
     "text": [
      "Trained Model:\n",
      "Chain(Dense(1 => 10, relu), Dense(10 => 2), softmax)\n"
     ]
    }
   ],
   "source": [
    "# Prepare data for training\n",
    "X_train = Matrix(train_data[:, :firing_rate]')\n",
    "y_train = Flux.onehotbatch(train_data.class, [\"Excitatory\", \"Inhibitory\"])\n",
    "\n",
    "# Define the loss function and optimizer\n",
    "loss(model, x, y) = Flux.crossentropy(model(x), y)\n",
    "opt = Flux.setup(Optimisers.ADAM(), model)\n",
    "\n",
    "# Training loop\n",
    "data = [(X_train, y_train)]\n",
    "parameters = Flux.params(model)\n",
    "for epoch in 1:100\n",
    "    Flux.train!(loss, params(model), data, opt)\n",
    "end\n",
    "\n",
    "# Print the trained model\n",
    "println(\"Trained Model:\")\n",
    "println(model)"
   ]
  },
  {
   "cell_type": "markdown",
   "metadata": {},
   "source": [
    "## Step 6 - Evaluate the Neural Network\n",
    "\n",
    "Evaluate the trained neural network using the test data. This involves making predictions and calculating the accuracy of the model.\n"
   ]
  },
  {
   "cell_type": "code",
   "execution_count": 6,
   "metadata": {},
   "outputs": [
    {
     "name": "stdout",
     "output_type": "stream",
     "text": [
      "Model Accuracy: 0.53\n"
     ]
    }
   ],
   "source": [
    "# Prepare data for testing\n",
    "X_test = Matrix(test_data[:, :firing_rate]')\n",
    "y_test = test_data.class\n",
    "\n",
    "# Make predictions\n",
    "y_pred = model(X_test)\n",
    "y_pred_labels = Flux.onecold(y_pred, [\"Excitatory\", \"Inhibitory\"])\n",
    "\n",
    "# Calculate accuracy\n",
    "accuracy = mean(y_pred_labels .== y_test)\n",
    "println(\"Model Accuracy: \", accuracy)"
   ]
  },
  {
   "cell_type": "markdown",
   "metadata": {},
   "source": [
    "## Step 7 - Visualize the Data"
   ]
  },
  {
   "cell_type": "code",
   "execution_count": null,
   "metadata": {},
   "outputs": [
    {
     "name": "stderr",
     "output_type": "stream",
     "text": [
      "\u001b[91m\u001b[1mERROR: \u001b[22m\u001b[39mLoadError: PyCall not properly installed. Please run Pkg.build(\"PyCall\")\n",
      "Stacktrace:\n",
      " [1] \u001b[0m\u001b[1merror\u001b[22m\u001b[0m\u001b[1m(\u001b[22m\u001b[90ms\u001b[39m::\u001b[0mString\u001b[0m\u001b[1m)\u001b[22m\n",
      "\u001b[90m   @\u001b[39m \u001b[90mBase\u001b[39m \u001b[90m.\\\u001b[39m\u001b[90m\u001b[4merror.jl:35\u001b[24m\u001b[39m\n",
      " [2] top-level scope\n",
      "\u001b[90m   @\u001b[39m \u001b[90mC:\\Users\\ryan.hopkins\\.julia\\packages\\PyCall\\1gn3u\\src\\\u001b[39m\u001b[90m\u001b[4mstartup.jl:44\u001b[24m\u001b[39m\n",
      " [3] \u001b[0m\u001b[1minclude\u001b[22m\u001b[0m\u001b[1m(\u001b[22m\u001b[90mmod\u001b[39m::\u001b[0mModule, \u001b[90m_path\u001b[39m::\u001b[0mString\u001b[0m\u001b[1m)\u001b[22m\n",
      "\u001b[90m   @\u001b[39m \u001b[90mBase\u001b[39m \u001b[90m.\\\u001b[39m\u001b[90m\u001b[4mBase.jl:557\u001b[24m\u001b[39m\n",
      " [4] \u001b[0m\u001b[1minclude\u001b[22m\u001b[0m\u001b[1m(\u001b[22m\u001b[90mx\u001b[39m::\u001b[0mString\u001b[0m\u001b[1m)\u001b[22m\n",
      "\u001b[90m   @\u001b[39m \u001b[35mPyCall\u001b[39m \u001b[90mC:\\Users\\ryan.hopkins\\.julia\\packages\\PyCall\\1gn3u\\src\\\u001b[39m\u001b[90m\u001b[4mPyCall.jl:1\u001b[24m\u001b[39m\n",
      " [5] top-level scope\n",
      "\u001b[90m   @\u001b[39m \u001b[90mC:\\Users\\ryan.hopkins\\.julia\\packages\\PyCall\\1gn3u\\src\\\u001b[39m\u001b[90m\u001b[4mPyCall.jl:38\u001b[24m\u001b[39m\n",
      " [6] \u001b[0m\u001b[1minclude\u001b[22m\n",
      "\u001b[90m   @\u001b[39m \u001b[90m.\\\u001b[39m\u001b[90m\u001b[4mBase.jl:557\u001b[24m\u001b[39m\u001b[90m [inlined]\u001b[39m\n",
      " [7] \u001b[0m\u001b[1minclude_package_for_output\u001b[22m\u001b[0m\u001b[1m(\u001b[22m\u001b[90mpkg\u001b[39m::\u001b[0mBase.PkgId, \u001b[90minput\u001b[39m::\u001b[0mString, \u001b[90mdepot_path\u001b[39m::\u001b[0mVector\u001b[90m{String}\u001b[39m, \u001b[90mdl_load_path\u001b[39m::\u001b[0mVector\u001b[90m{String}\u001b[39m, \u001b[90mload_path\u001b[39m::\u001b[0mVector\u001b[90m{String}\u001b[39m, \u001b[90mconcrete_deps\u001b[39m::\u001b[0mVector\u001b[90m{Pair{Base.PkgId, UInt128}}\u001b[39m, \u001b[90msource\u001b[39m::\u001b[0mString\u001b[0m\u001b[1m)\u001b[22m\n",
      "\u001b[90m   @\u001b[39m \u001b[90mBase\u001b[39m \u001b[90m.\\\u001b[39m\u001b[90m\u001b[4mloading.jl:2881\u001b[24m\u001b[39m\n",
      " [8] top-level scope\n",
      "\u001b[90m   @\u001b[39m \u001b[90m\u001b[4mstdin:6\u001b[24m\u001b[39m\n",
      "in expression starting at C:\\Users\\ryan.hopkins\\.julia\\packages\\PyCall\\1gn3u\\src\\startup.jl:41\n",
      "in expression starting at C:\\Users\\ryan.hopkins\\.julia\\packages\\PyCall\\1gn3u\\src\\PyCall.jl:1\n",
      "in expression starting at stdin:6\n",
      "\u001b[91m\u001b[1mERROR: \u001b[22m\u001b[39mLoadError: Failed to precompile PyCall [438e738f-606a-5dbb-bf0a-cddfbfd45ab0] to \"C:\\\\Users\\\\ryan.hopkins\\\\.julia\\\\compiled\\\\v1.11\\\\PyCall\\\\jl_A375.tmp\".\n",
      "Stacktrace:\n",
      "  [1] \u001b[0m\u001b[1merror\u001b[22m\u001b[0m\u001b[1m(\u001b[22m\u001b[90ms\u001b[39m::\u001b[0mString\u001b[0m\u001b[1m)\u001b[22m\n",
      "\u001b[90m    @\u001b[39m \u001b[90mBase\u001b[39m \u001b[90m.\\\u001b[39m\u001b[90m\u001b[4merror.jl:35\u001b[24m\u001b[39m\n",
      "  [2] \u001b[0m\u001b[1mcompilecache\u001b[22m\u001b[0m\u001b[1m(\u001b[22m\u001b[90mpkg\u001b[39m::\u001b[0mBase.PkgId, \u001b[90mpath\u001b[39m::\u001b[0mString, \u001b[90minternal_stderr\u001b[39m::\u001b[0mIO, \u001b[90minternal_stdout\u001b[39m::\u001b[0mIO, \u001b[90mkeep_loaded_modules\u001b[39m::\u001b[0mBool; \u001b[90mflags\u001b[39m::\u001b[0mCmd, \u001b[90mcacheflags\u001b[39m::\u001b[0mBase.CacheFlags, \u001b[90mreasons\u001b[39m::\u001b[0mDict\u001b[90m{String, Int64}\u001b[39m, \u001b[90mloadable_exts\u001b[39m::\u001b[0mNothing\u001b[0m\u001b[1m)\u001b[22m\n",
      "\u001b[90m    @\u001b[39m \u001b[90mBase\u001b[39m \u001b[90m.\\\u001b[39m\u001b[90m\u001b[4mloading.jl:3174\u001b[24m\u001b[39m\n",
      "  [3] \u001b[0m\u001b[1m(::Base.var\"#1110#1111\"{Base.PkgId})\u001b[22m\u001b[0m\u001b[1m(\u001b[22m\u001b[0m\u001b[1m)\u001b[22m\n",
      "\u001b[90m    @\u001b[39m \u001b[90mBase\u001b[39m \u001b[90m.\\\u001b[39m\u001b[90m\u001b[4mloading.jl:2579\u001b[24m\u001b[39m\n",
      "  [4] \u001b[0m\u001b[1mmkpidlock\u001b[22m\u001b[0m\u001b[1m(\u001b[22m\u001b[90mf\u001b[39m::\u001b[0mBase.var\"#1110#1111\"\u001b[90m{Base.PkgId}\u001b[39m, \u001b[90mat\u001b[39m::\u001b[0mString, \u001b[90mpid\u001b[39m::\u001b[0mInt32; \u001b[90mkwopts\u001b[39m::\u001b[0m@Kwargs\u001b[90m{stale_age::Int64, wait::Bool}\u001b[39m\u001b[0m\u001b[1m)\u001b[22m\n",
      "\u001b[90m    @\u001b[39m \u001b[35mFileWatching.Pidfile\u001b[39m \u001b[90mC:\\Users\\ryan.hopkins\\.julia\\juliaup\\julia-1.11.3+0.x64.w64.mingw32\\share\\julia\\stdlib\\v1.11\\FileWatching\\src\\\u001b[39m\u001b[90m\u001b[4mpidfile.jl:95\u001b[24m\u001b[39m\n",
      "  [5] \u001b[0m\u001b[1m#mkpidlock#6\u001b[22m\n",
      "\u001b[90m    @\u001b[39m \u001b[90mC:\\Users\\ryan.hopkins\\.julia\\juliaup\\julia-1.11.3+0.x64.w64.mingw32\\share\\julia\\stdlib\\v1.11\\FileWatching\\src\\\u001b[39m\u001b[90m\u001b[4mpidfile.jl:90\u001b[24m\u001b[39m\u001b[90m [inlined]\u001b[39m\n",
      "  [6] \u001b[0m\u001b[1mtrymkpidlock\u001b[22m\u001b[0m\u001b[1m(\u001b[22m::\u001b[0mFunction, ::\u001b[0mVararg\u001b[90m{Any}\u001b[39m; \u001b[90mkwargs\u001b[39m::\u001b[0m@Kwargs\u001b[90m{stale_age::Int64}\u001b[39m\u001b[0m\u001b[1m)\u001b[22m\n",
      "\u001b[90m    @\u001b[39m \u001b[35mFileWatching.Pidfile\u001b[39m \u001b[90mC:\\Users\\ryan.hopkins\\.julia\\juliaup\\julia-1.11.3+0.x64.w64.mingw32\\share\\julia\\stdlib\\v1.11\\FileWatching\\src\\\u001b[39m\u001b[90m\u001b[4mpidfile.jl:116\u001b[24m\u001b[39m\n",
      "  [7] \u001b[0m\u001b[1m#invokelatest#2\u001b[22m\n",
      "\u001b[90m    @\u001b[39m \u001b[90m.\\\u001b[39m\u001b[90m\u001b[4messentials.jl:1057\u001b[24m\u001b[39m\u001b[90m [inlined]\u001b[39m\n",
      "  [8] \u001b[0m\u001b[1minvokelatest\u001b[22m\n",
      "\u001b[90m    @\u001b[39m \u001b[90m.\\\u001b[39m\u001b[90m\u001b[4messentials.jl:1052\u001b[24m\u001b[39m\u001b[90m [inlined]\u001b[39m\n",
      "  [9] \u001b[0m\u001b[1mmaybe_cachefile_lock\u001b[22m\u001b[0m\u001b[1m(\u001b[22m\u001b[90mf\u001b[39m::\u001b[0mBase.var\"#1110#1111\"\u001b[90m{Base.PkgId}\u001b[39m, \u001b[90mpkg\u001b[39m::\u001b[0mBase.PkgId, \u001b[90msrcpath\u001b[39m::\u001b[0mString; \u001b[90mstale_age\u001b[39m::\u001b[0mInt64\u001b[0m\u001b[1m)\u001b[22m\n",
      "\u001b[90m    @\u001b[39m \u001b[90mBase\u001b[39m \u001b[90m.\\\u001b[39m\u001b[90m\u001b[4mloading.jl:3698\u001b[24m\u001b[39m\n",
      " [10] \u001b[0m\u001b[1mmaybe_cachefile_lock\u001b[22m\n",
      "\u001b[90m    @\u001b[39m \u001b[90m.\\\u001b[39m\u001b[90m\u001b[4mloading.jl:3695\u001b[24m\u001b[39m\u001b[90m [inlined]\u001b[39m\n",
      " [11] \u001b[0m\u001b[1m_require\u001b[22m\u001b[0m\u001b[1m(\u001b[22m\u001b[90mpkg\u001b[39m::\u001b[0mBase.PkgId, \u001b[90menv\u001b[39m::\u001b[0mString\u001b[0m\u001b[1m)\u001b[22m\n",
      "\u001b[90m    @\u001b[39m \u001b[90mBase\u001b[39m \u001b[90m.\\\u001b[39m\u001b[90m\u001b[4mloading.jl:2565\u001b[24m\u001b[39m\n",
      " [12] \u001b[0m\u001b[1m__require_prelocked\u001b[22m\u001b[0m\u001b[1m(\u001b[22m\u001b[90muuidkey\u001b[39m::\u001b[0mBase.PkgId, \u001b[90menv\u001b[39m::\u001b[0mString\u001b[0m\u001b[1m)\u001b[22m\n",
      "\u001b[90m    @\u001b[39m \u001b[90mBase\u001b[39m \u001b[90m.\\\u001b[39m\u001b[90m\u001b[4mloading.jl:2388\u001b[24m\u001b[39m\n",
      " [13] \u001b[0m\u001b[1m#invoke_in_world#3\u001b[22m\n",
      "\u001b[90m    @\u001b[39m \u001b[90m.\\\u001b[39m\u001b[90m\u001b[4messentials.jl:1089\u001b[24m\u001b[39m\u001b[90m [inlined]\u001b[39m\n",
      " [14] \u001b[0m\u001b[1minvoke_in_world\u001b[22m\n",
      "\u001b[90m    @\u001b[39m \u001b[90m.\\\u001b[39m\u001b[90m\u001b[4messentials.jl:1086\u001b[24m\u001b[39m\u001b[90m [inlined]\u001b[39m\n",
      " [15] \u001b[0m\u001b[1m_require_prelocked\u001b[22m\u001b[0m\u001b[1m(\u001b[22m\u001b[90muuidkey\u001b[39m::\u001b[0mBase.PkgId, \u001b[90menv\u001b[39m::\u001b[0mString\u001b[0m\u001b[1m)\u001b[22m\n",
      "\u001b[90m    @\u001b[39m \u001b[90mBase\u001b[39m \u001b[90m.\\\u001b[39m\u001b[90m\u001b[4mloading.jl:2375\u001b[24m\u001b[39m\n",
      " [16] \u001b[0m\u001b[1mmacro expansion\u001b[22m\n",
      "\u001b[90m    @\u001b[39m \u001b[90m.\\\u001b[39m\u001b[90m\u001b[4mloading.jl:2314\u001b[24m\u001b[39m\u001b[90m [inlined]\u001b[39m\n",
      " [17] \u001b[0m\u001b[1mmacro expansion\u001b[22m\n",
      "\u001b[90m    @\u001b[39m \u001b[90m.\\\u001b[39m\u001b[90m\u001b[4mlock.jl:273\u001b[24m\u001b[39m\u001b[90m [inlined]\u001b[39m\n",
      " [18] \u001b[0m\u001b[1m__require\u001b[22m\u001b[0m\u001b[1m(\u001b[22m\u001b[90minto\u001b[39m::\u001b[0mModule, \u001b[90mmod\u001b[39m::\u001b[0mSymbol\u001b[0m\u001b[1m)\u001b[22m\n",
      "\u001b[90m    @\u001b[39m \u001b[90mBase\u001b[39m \u001b[90m.\\\u001b[39m\u001b[90m\u001b[4mloading.jl:2271\u001b[24m\u001b[39m\n",
      " [19] \u001b[0m\u001b[1m#invoke_in_world#3\u001b[22m\n",
      "\u001b[90m    @\u001b[39m \u001b[90m.\\\u001b[39m\u001b[90m\u001b[4messentials.jl:1089\u001b[24m\u001b[39m\u001b[90m [inlined]\u001b[39m\n",
      " [20] \u001b[0m\u001b[1minvoke_in_world\u001b[22m\n",
      "\u001b[90m    @\u001b[39m \u001b[90m.\\\u001b[39m\u001b[90m\u001b[4messentials.jl:1086\u001b[24m\u001b[39m\u001b[90m [inlined]\u001b[39m\n",
      " [21] \u001b[0m\u001b[1mrequire\u001b[22m\u001b[0m\u001b[1m(\u001b[22m\u001b[90minto\u001b[39m::\u001b[0mModule, \u001b[90mmod\u001b[39m::\u001b[0mSymbol\u001b[0m\u001b[1m)\u001b[22m\n",
      "\u001b[90m    @\u001b[39m \u001b[90mBase\u001b[39m \u001b[90m.\\\u001b[39m\u001b[90m\u001b[4mloading.jl:2260\u001b[24m\u001b[39m\n",
      " [22] \u001b[0m\u001b[1minclude\u001b[22m\n",
      "\u001b[90m    @\u001b[39m \u001b[90m.\\\u001b[39m\u001b[90m\u001b[4mBase.jl:557\u001b[24m\u001b[39m\u001b[90m [inlined]\u001b[39m\n",
      " [23] \u001b[0m\u001b[1minclude_package_for_output\u001b[22m\u001b[0m\u001b[1m(\u001b[22m\u001b[90mpkg\u001b[39m::\u001b[0mBase.PkgId, \u001b[90minput\u001b[39m::\u001b[0mString, \u001b[90mdepot_path\u001b[39m::\u001b[0mVector\u001b[90m{String}\u001b[39m, \u001b[90mdl_load_path\u001b[39m::\u001b[0mVector\u001b[90m{String}\u001b[39m, \u001b[90mload_path\u001b[39m::\u001b[0mVector\u001b[90m{String}\u001b[39m, \u001b[90mconcrete_deps\u001b[39m::\u001b[0mVector\u001b[90m{Pair{Base.PkgId, UInt128}}\u001b[39m, \u001b[90msource\u001b[39m::\u001b[0mString\u001b[0m\u001b[1m)\u001b[22m\n",
      "\u001b[90m    @\u001b[39m \u001b[90mBase\u001b[39m \u001b[90m.\\\u001b[39m\u001b[90m\u001b[4mloading.jl:2881\u001b[24m\u001b[39m\n",
      " [24] top-level scope\n",
      "\u001b[90m    @\u001b[39m \u001b[90m\u001b[4mstdin:6\u001b[24m\u001b[39m\n",
      "in expression starting at C:\\Users\\ryan.hopkins\\.julia\\packages\\PyPlot\\rWSdf\\src\\PyPlot.jl:2\n",
      "in expression starting at stdin:6\n"
     ]
    },
    {
     "ename": "ErrorException",
     "evalue": "Failed to precompile PyPlot [d330b81b-6aea-500a-939a-2ce795aea3ee] to \"C:\\\\Users\\\\ryan.hopkins\\\\.julia\\\\compiled\\\\v1.11\\\\PyPlot\\\\jl_A135.tmp\".",
     "output_type": "error",
     "traceback": [
      "Failed to precompile PyPlot [d330b81b-6aea-500a-939a-2ce795aea3ee] to \"C:\\\\Users\\\\ryan.hopkins\\\\.julia\\\\compiled\\\\v1.11\\\\PyPlot\\\\jl_A135.tmp\".\n",
      "\n",
      "Stacktrace:\n",
      "  [1] error(s::String)\n",
      "    @ Base .\\error.jl:35\n",
      "  [2] compilecache(pkg::Base.PkgId, path::String, internal_stderr::IO, internal_stdout::IO, keep_loaded_modules::Bool; flags::Cmd, cacheflags::Base.CacheFlags, reasons::Dict{String, Int64}, loadable_exts::Nothing)\n",
      "    @ Base .\\loading.jl:3174\n",
      "  [3] (::Base.var\"#1110#1111\"{Base.PkgId})()\n",
      "    @ Base .\\loading.jl:2579\n",
      "  [4] mkpidlock(f::Base.var\"#1110#1111\"{Base.PkgId}, at::String, pid::Int32; kwopts::@Kwargs{stale_age::Int64, wait::Bool})\n",
      "    @ FileWatching.Pidfile C:\\Users\\ryan.hopkins\\.julia\\juliaup\\julia-1.11.3+0.x64.w64.mingw32\\share\\julia\\stdlib\\v1.11\\FileWatching\\src\\pidfile.jl:95\n",
      "  [5] #mkpidlock#6\n",
      "    @ C:\\Users\\ryan.hopkins\\.julia\\juliaup\\julia-1.11.3+0.x64.w64.mingw32\\share\\julia\\stdlib\\v1.11\\FileWatching\\src\\pidfile.jl:90 [inlined]\n",
      "  [6] trymkpidlock(::Function, ::Vararg{Any}; kwargs::@Kwargs{stale_age::Int64})\n",
      "    @ FileWatching.Pidfile C:\\Users\\ryan.hopkins\\.julia\\juliaup\\julia-1.11.3+0.x64.w64.mingw32\\share\\julia\\stdlib\\v1.11\\FileWatching\\src\\pidfile.jl:116\n",
      "  [7] #invokelatest#2\n",
      "    @ .\\essentials.jl:1057 [inlined]\n",
      "  [8] invokelatest\n",
      "    @ .\\essentials.jl:1052 [inlined]\n",
      "  [9] maybe_cachefile_lock(f::Base.var\"#1110#1111\"{Base.PkgId}, pkg::Base.PkgId, srcpath::String; stale_age::Int64)\n",
      "    @ Base .\\loading.jl:3698\n",
      " [10] maybe_cachefile_lock\n",
      "    @ .\\loading.jl:3695 [inlined]\n",
      " [11] _require(pkg::Base.PkgId, env::String)\n",
      "    @ Base .\\loading.jl:2565\n",
      " [12] __require_prelocked(uuidkey::Base.PkgId, env::String)\n",
      "    @ Base .\\loading.jl:2388\n",
      " [13] #invoke_in_world#3\n",
      "    @ .\\essentials.jl:1089 [inlined]\n",
      " [14] invoke_in_world\n",
      "    @ .\\essentials.jl:1086 [inlined]\n",
      " [15] _require_prelocked(uuidkey::Base.PkgId, env::String)\n",
      "    @ Base .\\loading.jl:2375\n",
      " [16] macro expansion\n",
      "    @ .\\loading.jl:2314 [inlined]\n",
      " [17] macro expansion\n",
      "    @ .\\lock.jl:273 [inlined]\n",
      " [18] __require(into::Module, mod::Symbol)\n",
      "    @ Base .\\loading.jl:2271\n",
      " [19] #invoke_in_world#3\n",
      "    @ .\\essentials.jl:1089 [inlined]\n",
      " [20] invoke_in_world\n",
      "    @ .\\essentials.jl:1086 [inlined]\n",
      " [21] require(into::Module, mod::Symbol)\n",
      "    @ Base .\\loading.jl:2260\n",
      " [22] eval\n",
      "    @ .\\boot.jl:430 [inlined]\n",
      " [23] include_string(mapexpr::typeof(REPL.softscope), mod::Module, code::String, filename::String)\n",
      "    @ Base .\\loading.jl:2734\n",
      " [24] #invokelatest#2\n",
      "    @ .\\essentials.jl:1055 [inlined]\n",
      " [25] invokelatest\n",
      "    @ .\\essentials.jl:1052 [inlined]\n",
      " [26] (::VSCodeServer.var\"#217#218\"{VSCodeServer.NotebookRunCellArguments, String})()\n",
      "    @ VSCodeServer c:\\Users\\ryan.hopkins\\.vscode\\extensions\\julialang.language-julia-1.127.2\\scripts\\packages\\VSCodeServer\\src\\serve_notebook.jl:24\n",
      " [27] withpath(f::VSCodeServer.var\"#217#218\"{VSCodeServer.NotebookRunCellArguments, String}, path::String)\n",
      "    @ VSCodeServer c:\\Users\\ryan.hopkins\\.vscode\\extensions\\julialang.language-julia-1.127.2\\scripts\\packages\\VSCodeServer\\src\\repl.jl:276\n",
      " [28] notebook_runcell_request(conn::VSCodeServer.JSONRPC.JSONRPCEndpoint{Base.PipeEndpoint, Base.PipeEndpoint}, params::VSCodeServer.NotebookRunCellArguments)\n",
      "    @ VSCodeServer c:\\Users\\ryan.hopkins\\.vscode\\extensions\\julialang.language-julia-1.127.2\\scripts\\packages\\VSCodeServer\\src\\serve_notebook.jl:13\n",
      " [29] dispatch_msg(x::VSCodeServer.JSONRPC.JSONRPCEndpoint{Base.PipeEndpoint, Base.PipeEndpoint}, dispatcher::VSCodeServer.JSONRPC.MsgDispatcher, msg::Dict{String, Any})\n",
      "    @ VSCodeServer.JSONRPC c:\\Users\\ryan.hopkins\\.vscode\\extensions\\julialang.language-julia-1.127.2\\scripts\\packages\\JSONRPC\\src\\typed.jl:67\n",
      " [30] serve_notebook(pipename::String, debugger_pipename::String, outputchannel_logger::Base.CoreLogging.SimpleLogger; error_handler::var\"#5#10\"{String})\n",
      "    @ VSCodeServer c:\\Users\\ryan.hopkins\\.vscode\\extensions\\julialang.language-julia-1.127.2\\scripts\\packages\\VSCodeServer\\src\\serve_notebook.jl:147\n",
      " [31] top-level scope\n",
      "    @ c:\\Users\\ryan.hopkins\\.vscode\\extensions\\julialang.language-julia-1.127.2\\scripts\\notebook\\notebook.jl:35"
     ]
    }
   ],
   "source": [
    "# Visualize the data\n",
    "using Plots\n",
    "pyplot()\n",
    "\n",
    "# Plot the data\n",
    "scatter(data.id, data.firing_rate, group=data.class, legend=:top, title=\"Neuron Firing Rates\", xlabel=\"Neuron ID\", ylabel=\"Firing Rate\")\n",
    "\n",
    "# Save the first plot\n",
    "savefig(\"neuron_firing_rates.png\")\n",
    "\n",
    "# Add predictions to the test data\n",
    "test_data.predicted_class = y_pred_labels\n",
    "\n",
    "# Plot the actual vs predicted classifications\n",
    "p = scatter(test_data.id, test_data.firing_rate, group=test_data.class, legend=:topright, title=\"Actual vs Predicted Classifications\", xlabel=\"Neuron ID\", ylabel=\"Firing Rate\", label=\"Actual\")\n",
    "scatter!(p, test_data.id, test_data.firing_rate, group=test_data.predicted_class, markershape=:cross, label=\"Predicted\")\n",
    "\n",
    "# Save the second plot\n",
    "savefig(p, \"actual_vs_predicted.png\")\n",
    "\n",
    "# Display the plots\n",
    "display(p)"
   ]
  },
  {
   "cell_type": "markdown",
   "metadata": {},
   "source": [
    "## Conclusion\n",
    "\n",
    "This project demonstrates how to use Julia and Flux to build a neural network for classifying neurons based on their firing patterns. The final output is the accuracy of the model, which indicates how well the network can classify new neurons.\n"
   ]
  }
 ],
 "metadata": {
  "kernelspec": {
   "display_name": "Julia 1.11.3",
   "language": "julia",
   "name": "julia-1.11"
  },
  "language_info": {
   "file_extension": ".jl",
   "mimetype": "application/julia",
   "name": "julia",
   "version": "1.11.3"
  }
 },
 "nbformat": 4,
 "nbformat_minor": 2
}
