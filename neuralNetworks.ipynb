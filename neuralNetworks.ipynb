{
 "cells": [
  {
   "cell_type": "markdown",
   "metadata": {},
   "source": [
    "# Neuron Classification Using Neural Networks in Julia\n",
    "\n",
    "This project demonstrates how to classify neurons based on their firing patterns using a simple neural network implemented in Julia. It covers various aspects of data science, machine learning, and computational neuroscience.\n",
    "\n",
    "## Step 1 - Generate Synthetic Data\n",
    "\n",
    "Start by generating a synthetic dataset of neurons. Each neuron has a unique ID, a firing rate (how often it sends a signal), and a type (either excitatory or inhibitory)."
   ]
  },
  {
   "cell_type": "code",
   "execution_count": null,
   "metadata": {},
   "outputs": [],
   "source": [
    "using Random, CSV, DataFrames\n",
    "\n",
    "function generate_data(n::Int)\n",
    "    data = DataFrame(id = 1:n, firing_rate = rand(50:150, n), class = rand([\"Excitatory\", \"Inhibitory\"], n))\n",
    "    CSV.write(\"neuron_data.csv\", data)\n",
    "end\n",
    "\n",
    "# Generate data\n",
    "generate_data(1000)"
   ]
  },
  {
   "cell_type": "markdown",
   "metadata": {},
   "source": [
    "## Step 2 - Load and Explore the Data\n",
    "\n",
    "Next, the generated data loads from the CSV file and displays the first few rows to understand its structure. Then the data is explored by summarizing its statistics."
   ]
  },
  {
   "cell_type": "code",
   "execution_count": null,
   "metadata": {},
   "outputs": [],
   "source": [
    "using CSV, DataFrames\n",
    "\n",
    "# Load the data and display the first 5 rows\n",
    "data = CSV.read(\"neuron_data.csv\", DataFrame)\n",
    "println(first(data, 5))\n",
    "\n",
    "# Explore the data\n",
    "println(describe(data))"
   ]
  },
  {
   "cell_type": "markdown",
   "metadata": {},
   "source": [
    "## Step 3 - Data Processing\n",
    "\n",
    "The data needs to be processed to make it suitable for training a neural network. This involves converting the neuron types into a format that the neural network can understand and splitting the data into training and testing sets."
   ]
  },
  {
   "cell_type": "code",
   "execution_count": null,
   "metadata": {},
   "outputs": [],
   "source": [
    "using MLJ\n",
    "\n",
    "# Encode categorical variables\n",
    "data.class = coerce(data.class, Multiclass)\n",
    "\n",
    "# Split the data\n",
    "using MLJBase\n",
    "\n",
    "train, test = partition(eachindex(data.id), 0.8, shuffle=true)\n",
    "train_data = data[train, :]\n",
    "test_data = data[test, :]"
   ]
  },
  {
   "cell_type": "markdown",
   "metadata": {},
   "source": [
    "## Step 4 - Define the Neural Network Model\n",
    "\n",
    "Define a simple neural network using the Flux library. This network will learn to classify neurons based on their firing rates.\n"
   ]
  },
  {
   "cell_type": "code",
   "execution_count": null,
   "metadata": {},
   "outputs": [],
   "source": [
    "using Flux\n",
    "using Optimisers  # Import optimisers for ADAM\n",
    "\n",
    "model = Chain(\n",
    "    Dense(1, 10, relu),\n",
    "    Dense(10, 2),\n",
    "    softmax\n",
    ")"
   ]
  },
  {
   "cell_type": "markdown",
   "metadata": {},
   "source": [
    "## Step 5 - Train the Neural Network\n",
    "\n",
    "Prepare the training data and train the neural network. The network adjusts its internal settings to learn how to classify neurons.\n"
   ]
  },
  {
   "cell_type": "code",
   "execution_count": null,
   "metadata": {},
   "outputs": [],
   "source": [
    
    "X_train = Matrix(train_data[:, :firing_rate]')\n",
    "y_train = Flux.onehotbatch(train_data.class, [\"Excitatory\", \"Inhibitory\"])\n",
    "\n",
    "# Define the loss function and optimizer\n",
    "loss(model, x, y) = Flux.crossentropy(model(x), y)\n",
    "opt = Flux.setup(Optimisers.ADAM(), model)\n",
    "\n",
    "# Training loop\n",
    "data = [(X_train, y_train)]\n",
    "parameters = Flux.params(model)\n",
    "for epoch in 1:100\n",
    "    Flux.train!(loss, params(model), data, opt)\n",
    "end\n",
    "\n",
    "# Print the trained model\n",
    "println(\"Trained Model:\")\n",
    "println(model)"
   ]
  },
  {
   "cell_type": "markdown",
   "metadata": {},
   "source": [
    "## Step 6 - Evaluate the Neural Network\n",
    "\n",
    "Evaluate the trained neural network using the test data. This involves making predictions and calculating the accuracy of the model.\n"
   ]
  },
  {
   "cell_type": "code",
   "execution_count": null,
   "metadata": {},
   "outputs": [],
   "source": [
    "# Prepare data for testing\n",
    "X_test = Matrix(test_data[:, :firing_rate]')\n",
    "y_test = test_data.class\n",
    "\n",
    "# Make predictions\n",
    "y_pred = model(X_test)\n",
    "y_pred_labels = Flux.onecold(y_pred, [\"Excitatory\", \"Inhibitory\"])\n",
    "\n",
    "# Calculate accuracy\n",
    "accuracy = mean(y_pred_labels .== y_test)\n",
    "println(\"Model Accuracy: \", accuracy)"
   ]
  },
  {
   "cell_type": "markdown",
   "metadata": {},
   "source": [
    "## Conclusion\n",
    "\n",
    "This project demonstrates how to use Julia and Flux to build a neural network for classifying neurons based on their firing patterns. The final output is the accuracy of the model, which indicates how well the network can classify new neurons.\n"
   ]
  }
 ],
 "metadata": {
  "kernelspec": {
   "display_name": "Julia 1.11.1",
   "language": "julia",
   "name": "julia-1.11"
  },
  "language_info": {
   "file_extension": ".jl",
   "mimetype": "application/julia",
   "name": "julia",
   "version": "1.11.1"
  }
 },
 "nbformat": 4,
 "nbformat_minor": 2
}
