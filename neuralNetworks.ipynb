{
 "cells": [
  {
   "cell_type": "markdown",
   "metadata": {},
   "source": [
    "# Neuron Classification Using Neural Networks in Julia\n",
    "\n",
    "This project demonstrates how to classify neurons based on their firing patterns using a simple neural network implemented in Julia. It covers various aspects of data science, machine learning, and computational neuroscience.\n",
    "\n",
    "## Step 1 - Generate Synthetic Data\n",
    "\n",
    "Start by generating a synthetic dataset of neurons. Each neuron has a unique ID, a firing rate (how often it sends a signal), and a type (either excitatory or inhibitory)."
   ]
  },
  {
   "cell_type": "code",
   "execution_count": 1,
   "metadata": {},
   "outputs": [
    {
     "data": {
      "text/plain": [
       "\"neuron_data.csv\""
      ]
     },
     "metadata": {},
     "output_type": "display_data"
    }
   ],
   "source": [
    "using Random, CSV, DataFrames\n",
    "\n",
    "function generate_data(n::Int)\n",
    "    data = DataFrame(id = 1:n, firing_rate = rand(50:150, n), class = rand([\"Excitatory\", \"Inhibitory\"], n))\n",
    "    CSV.write(\"neuron_data.csv\", data)\n",
    "end\n",
    "\n",
    "# Generate data\n",
    "generate_data(1000)"
   ]
  },
  {
   "cell_type": "markdown",
   "metadata": {},
   "source": [
    "## Step 2 - Load and Explore the Data\n",
    "\n",
    "Next, the generated data loads from the CSV file and displays the first few rows to understand its structure. Then the data is explored by summarizing its statistics."
   ]
  },
  {
   "cell_type": "code",
   "execution_count": 2,
   "metadata": {},
   "outputs": [
    {
     "name": "stdout",
     "output_type": "stream",
     "text": [
      "\u001b[1m5×3 DataFrame\u001b[0m\n",
      "\u001b[1m Row \u001b[0m│\u001b[1m id    \u001b[0m\u001b[1m firing_rate \u001b[0m\u001b[1m class      \u001b[0m\n",
      "     │\u001b[90m Int64 \u001b[0m\u001b[90m Int64       \u001b[0m\u001b[90m String15   \u001b[0m\n",
      "─────┼────────────────────────────────\n",
      "   1 │     1          147  Excitatory\n",
      "   2 │     2          126  Inhibitory\n",
      "   3 │     3          106  Inhibitory\n",
      "   4 │     4           84  Excitatory\n",
      "   5 │     5           90  Excitatory\n",
      "\u001b[1m3×7 DataFrame\u001b[0m\n",
      "\u001b[1m Row \u001b[0m│\u001b[1m variable    \u001b[0m\u001b[1m mean   \u001b[0m\u001b[1m min        \u001b[0m\u001b[1m median \u001b[0m\u001b[1m max        \u001b[0m\u001b[1m nmissing \u001b[0m\u001b[1m eltype   \u001b[0m\n",
      "     │\u001b[90m Symbol      \u001b[0m\u001b[90m Union… \u001b[0m\u001b[90m Any        \u001b[0m\u001b[90m Union… \u001b[0m\u001b[90m Any        \u001b[0m\u001b[90m Int64    \u001b[0m\u001b[90m DataType \u001b[0m\n",
      "─────┼─────────────────────────────────────────────────────────────────────────\n",
      "   1 │ id           500.5   1           500.5   1000               0  Int64\n",
      "   2 │ firing_rate  99.246  50          99.0    150                0  Int64\n",
      "   3 │ class       \u001b[90m        \u001b[0m Excitatory \u001b[90m        \u001b[0m Inhibitory         0  String15\n"
     ]
    }
   ],
   "source": [
    "using CSV, DataFrames\n",
    "\n",
    "# Load the data and display the first 5 rows\n",
    "data = CSV.read(\"neuron_data.csv\", DataFrame)\n",
    "println(first(data, 5))\n",
    "\n",
    "# Explore the data\n",
    "println(describe(data))"
   ]
  },
  {
   "cell_type": "markdown",
   "metadata": {},
   "source": [
    "## Step 3 - Data Processing\n",
    "\n",
    "The data needs to be processed to make it suitable for training a neural network. This involves converting the neuron types into a format that the neural network can understand and splitting the data into training and testing sets."
   ]
  },
  {
   "cell_type": "code",
   "execution_count": 3,
   "metadata": {},
   "outputs": [
    {
     "data": {
      "text/html": [
       "<div><div style = \"float: left;\"><span>200×3 DataFrame</span></div><div style = \"float: right;\"><span style = \"font-style: italic;\">175 rows omitted</span></div><div style = \"clear: both;\"></div></div><div class = \"data-frame\" style = \"overflow-x: scroll;\"><table class = \"data-frame\" style = \"margin-bottom: 6px;\"><thead><tr class = \"header\"><th class = \"rowNumber\" style = \"font-weight: bold; text-align: right;\">Row</th><th style = \"text-align: left;\">id</th><th style = \"text-align: left;\">firing_rate</th><th style = \"text-align: left;\">class</th></tr><tr class = \"subheader headerLastRow\"><th class = \"rowNumber\" style = \"font-weight: bold; text-align: right;\"></th><th title = \"Int64\" style = \"text-align: left;\">Int64</th><th title = \"Int64\" style = \"text-align: left;\">Int64</th><th title = \"CategoricalArrays.CategoricalValue{String15, UInt32}\" style = \"text-align: left;\">Cat…</th></tr></thead><tbody><tr><td class = \"rowNumber\" style = \"font-weight: bold; text-align: right;\">1</td><td style = \"text-align: right;\">649</td><td style = \"text-align: right;\">109</td><td style = \"text-align: left;\">Excitatory</td></tr><tr><td class = \"rowNumber\" style = \"font-weight: bold; text-align: right;\">2</td><td style = \"text-align: right;\">849</td><td style = \"text-align: right;\">129</td><td style = \"text-align: left;\">Inhibitory</td></tr><tr><td class = \"rowNumber\" style = \"font-weight: bold; text-align: right;\">3</td><td style = \"text-align: right;\">855</td><td style = \"text-align: right;\">101</td><td style = \"text-align: left;\">Inhibitory</td></tr><tr><td class = \"rowNumber\" style = \"font-weight: bold; text-align: right;\">4</td><td style = \"text-align: right;\">467</td><td style = \"text-align: right;\">60</td><td style = \"text-align: left;\">Excitatory</td></tr><tr><td class = \"rowNumber\" style = \"font-weight: bold; text-align: right;\">5</td><td style = \"text-align: right;\">105</td><td style = \"text-align: right;\">66</td><td style = \"text-align: left;\">Inhibitory</td></tr><tr><td class = \"rowNumber\" style = \"font-weight: bold; text-align: right;\">6</td><td style = \"text-align: right;\">810</td><td style = \"text-align: right;\">55</td><td style = \"text-align: left;\">Excitatory</td></tr><tr><td class = \"rowNumber\" style = \"font-weight: bold; text-align: right;\">7</td><td style = \"text-align: right;\">326</td><td style = \"text-align: right;\">51</td><td style = \"text-align: left;\">Inhibitory</td></tr><tr><td class = \"rowNumber\" style = \"font-weight: bold; text-align: right;\">8</td><td style = \"text-align: right;\">287</td><td style = \"text-align: right;\">113</td><td style = \"text-align: left;\">Excitatory</td></tr><tr><td class = \"rowNumber\" style = \"font-weight: bold; text-align: right;\">9</td><td style = \"text-align: right;\">179</td><td style = \"text-align: right;\">61</td><td style = \"text-align: left;\">Excitatory</td></tr><tr><td class = \"rowNumber\" style = \"font-weight: bold; text-align: right;\">10</td><td style = \"text-align: right;\">505</td><td style = \"text-align: right;\">76</td><td style = \"text-align: left;\">Inhibitory</td></tr><tr><td class = \"rowNumber\" style = \"font-weight: bold; text-align: right;\">11</td><td style = \"text-align: right;\">739</td><td style = \"text-align: right;\">93</td><td style = \"text-align: left;\">Excitatory</td></tr><tr><td class = \"rowNumber\" style = \"font-weight: bold; text-align: right;\">12</td><td style = \"text-align: right;\">665</td><td style = \"text-align: right;\">90</td><td style = \"text-align: left;\">Excitatory</td></tr><tr><td class = \"rowNumber\" style = \"font-weight: bold; text-align: right;\">13</td><td style = \"text-align: right;\">879</td><td style = \"text-align: right;\">50</td><td style = \"text-align: left;\">Excitatory</td></tr><tr><td style = \"text-align: right;\">&vellip;</td><td style = \"text-align: right;\">&vellip;</td><td style = \"text-align: right;\">&vellip;</td><td style = \"text-align: right;\">&vellip;</td></tr><tr><td class = \"rowNumber\" style = \"font-weight: bold; text-align: right;\">189</td><td style = \"text-align: right;\">400</td><td style = \"text-align: right;\">50</td><td style = \"text-align: left;\">Excitatory</td></tr><tr><td class = \"rowNumber\" style = \"font-weight: bold; text-align: right;\">190</td><td style = \"text-align: right;\">853</td><td style = \"text-align: right;\">63</td><td style = \"text-align: left;\">Inhibitory</td></tr><tr><td class = \"rowNumber\" style = \"font-weight: bold; text-align: right;\">191</td><td style = \"text-align: right;\">528</td><td style = \"text-align: right;\">107</td><td style = \"text-align: left;\">Inhibitory</td></tr><tr><td class = \"rowNumber\" style = \"font-weight: bold; text-align: right;\">192</td><td style = \"text-align: right;\">39</td><td style = \"text-align: right;\">120</td><td style = \"text-align: left;\">Inhibitory</td></tr><tr><td class = \"rowNumber\" style = \"font-weight: bold; text-align: right;\">193</td><td style = \"text-align: right;\">968</td><td style = \"text-align: right;\">124</td><td style = \"text-align: left;\">Inhibitory</td></tr><tr><td class = \"rowNumber\" style = \"font-weight: bold; text-align: right;\">194</td><td style = \"text-align: right;\">867</td><td style = \"text-align: right;\">112</td><td style = \"text-align: left;\">Excitatory</td></tr><tr><td class = \"rowNumber\" style = \"font-weight: bold; text-align: right;\">195</td><td style = \"text-align: right;\">453</td><td style = \"text-align: right;\">68</td><td style = \"text-align: left;\">Excitatory</td></tr><tr><td class = \"rowNumber\" style = \"font-weight: bold; text-align: right;\">196</td><td style = \"text-align: right;\">262</td><td style = \"text-align: right;\">93</td><td style = \"text-align: left;\">Excitatory</td></tr><tr><td class = \"rowNumber\" style = \"font-weight: bold; text-align: right;\">197</td><td style = \"text-align: right;\">547</td><td style = \"text-align: right;\">88</td><td style = \"text-align: left;\">Excitatory</td></tr><tr><td class = \"rowNumber\" style = \"font-weight: bold; text-align: right;\">198</td><td style = \"text-align: right;\">805</td><td style = \"text-align: right;\">61</td><td style = \"text-align: left;\">Inhibitory</td></tr><tr><td class = \"rowNumber\" style = \"font-weight: bold; text-align: right;\">199</td><td style = \"text-align: right;\">480</td><td style = \"text-align: right;\">68</td><td style = \"text-align: left;\">Inhibitory</td></tr><tr><td class = \"rowNumber\" style = \"font-weight: bold; text-align: right;\">200</td><td style = \"text-align: right;\">732</td><td style = \"text-align: right;\">66</td><td style = \"text-align: left;\">Excitatory</td></tr></tbody></table></div>"
      ],
      "text/latex": [
       "\\begin{tabular}{r|ccc}\n",
       "\t& id & firing\\_rate & class\\\\\n",
       "\t\\hline\n",
       "\t& Int64 & Int64 & Cat…\\\\\n",
       "\t\\hline\n",
       "\t1 & 649 & 109 & Excitatory \\\\\n",
       "\t2 & 849 & 129 & Inhibitory \\\\\n",
       "\t3 & 855 & 101 & Inhibitory \\\\\n",
       "\t4 & 467 & 60 & Excitatory \\\\\n",
       "\t5 & 105 & 66 & Inhibitory \\\\\n",
       "\t6 & 810 & 55 & Excitatory \\\\\n",
       "\t7 & 326 & 51 & Inhibitory \\\\\n",
       "\t8 & 287 & 113 & Excitatory \\\\\n",
       "\t9 & 179 & 61 & Excitatory \\\\\n",
       "\t10 & 505 & 76 & Inhibitory \\\\\n",
       "\t11 & 739 & 93 & Excitatory \\\\\n",
       "\t12 & 665 & 90 & Excitatory \\\\\n",
       "\t13 & 879 & 50 & Excitatory \\\\\n",
       "\t14 & 169 & 134 & Excitatory \\\\\n",
       "\t15 & 536 & 124 & Inhibitory \\\\\n",
       "\t16 & 780 & 66 & Inhibitory \\\\\n",
       "\t17 & 1000 & 83 & Inhibitory \\\\\n",
       "\t18 & 96 & 116 & Excitatory \\\\\n",
       "\t19 & 623 & 101 & Excitatory \\\\\n",
       "\t20 & 548 & 136 & Inhibitory \\\\\n",
       "\t21 & 869 & 133 & Inhibitory \\\\\n",
       "\t22 & 345 & 124 & Excitatory \\\\\n",
       "\t23 & 223 & 104 & Inhibitory \\\\\n",
       "\t24 & 206 & 113 & Inhibitory \\\\\n",
       "\t$\\dots$ & $\\dots$ & $\\dots$ & $\\dots$ \\\\\n",
       "\\end{tabular}\n"
      ],
      "text/plain": [
       "\u001b[1m200×3 DataFrame\u001b[0m\n",
       "\u001b[1m Row \u001b[0m│\u001b[1m id    \u001b[0m\u001b[1m firing_rate \u001b[0m\u001b[1m class      \u001b[0m\n",
       "     │\u001b[90m Int64 \u001b[0m\u001b[90m Int64       \u001b[0m\u001b[90m Cat…       \u001b[0m\n",
       "─────┼────────────────────────────────\n",
       "   1 │   649          109  Excitatory\n",
       "   2 │   849          129  Inhibitory\n",
       "   3 │   855          101  Inhibitory\n",
       "   4 │   467           60  Excitatory\n",
       "   5 │   105           66  Inhibitory\n",
       "   6 │   810           55  Excitatory\n",
       "   7 │   326           51  Inhibitory\n",
       "   8 │   287          113  Excitatory\n",
       "  ⋮  │   ⋮         ⋮           ⋮\n",
       " 194 │   867          112  Excitatory\n",
       " 195 │   453           68  Excitatory\n",
       " 196 │   262           93  Excitatory\n",
       " 197 │   547           88  Excitatory\n",
       " 198 │   805           61  Inhibitory\n",
       " 199 │   480           68  Inhibitory\n",
       " 200 │   732           66  Excitatory\n",
       "\u001b[36m                      185 rows omitted\u001b[0m"
      ]
     },
     "metadata": {},
     "output_type": "display_data"
    }
   ],
   "source": [
    "using MLJ\n",
    "\n",
    "# Encode categorical variables\n",
    "data.class = coerce(data.class, Multiclass)\n",
    "\n",
    "# Split the data\n",
    "using MLJBase\n",
    "\n",
    "train, test = partition(eachindex(data.id), 0.8, shuffle=true)\n",
    "train_data = data[train, :]\n",
    "test_data = data[test, :]"
   ]
  },
  {
   "cell_type": "markdown",
   "metadata": {},
   "source": [
    "## Step 4 - Define the Neural Network Model\n",
    "\n",
    "Define a simple neural network using the Flux library. This network will learn to classify neurons based on their firing rates.\n"
   ]
  },
  {
   "cell_type": "code",
   "execution_count": 4,
   "metadata": {},
   "outputs": [
    {
     "data": {
      "text/plain": [
       "Chain(\n",
       "  Dense(1 => 10, relu),                 \u001b[90m# 20 parameters\u001b[39m\n",
       "  Dense(10 => 2),                       \u001b[90m# 22 parameters\u001b[39m\n",
       "  NNlib.softmax,\n",
       ") \u001b[90m                  # Total: 4 arrays, \u001b[39m42 parameters, 376 bytes."
      ]
     },
     "metadata": {},
     "output_type": "display_data"
    }
   ],
   "source": [
    "using Flux\n",
    "using Optimisers  # Import optimisers for ADAM\n",
    "\n",
    "model = Chain(\n",
    "    Dense(1, 10, relu),\n",
    "    Dense(10, 2),\n",
    "    softmax\n",
    ")"
   ]
  },
  {
   "cell_type": "markdown",
   "metadata": {},
   "source": [
    "## Step 5 - Train the Neural Network\n",
    "\n",
    "Prepare the training data and train the neural network. The network adjusts its internal settings to learn how to classify neurons.\n"
   ]
  },
  {
   "cell_type": "code",
   "execution_count": 5,
   "metadata": {},
   "outputs": [
    {
     "name": "stdout",
     "output_type": "stream",
     "text": [
      "Trained Model:\n",
      "Chain(Dense(1 => 10, relu), Dense(10 => 2), softmax)\n"
     ]
    }
   ],
   "source": [
    "# Prepare data for training\n",
    "X_train = Matrix(train_data[:, :firing_rate]')\n",
    "y_train = Flux.onehotbatch(train_data.class, [\"Excitatory\", \"Inhibitory\"])\n",
    "\n",
    "# Define the loss function and optimizer\n",
    "loss(model, x, y) = Flux.crossentropy(model(x), y)\n",
    "opt = Flux.setup(Optimisers.ADAM(), model)\n",
    "\n",
    "# Training loop\n",
    "data = [(X_train, y_train)]\n",
    "parameters = Flux.params(model)\n",
    "for epoch in 1:100\n",
    "    Flux.train!(loss, params(model), data, opt)\n",
    "end\n",
    "\n",
    "# Print the trained model\n",
    "println(\"Trained Model:\")\n",
    "println(model)"
   ]
  },
  {
   "cell_type": "markdown",
   "metadata": {},
   "source": [
    "## Step 6 - Evaluate the Neural Network\n",
    "\n",
    "Evaluate the trained neural network using the test data. This involves making predictions and calculating the accuracy of the model.\n"
   ]
  },
  {
   "cell_type": "code",
   "execution_count": 6,
   "metadata": {},
   "outputs": [
    {
     "name": "stdout",
     "output_type": "stream",
     "text": [
      "Model Accuracy: 0.53\n"
     ]
    }
   ],
   "source": [
    "# Prepare data for testing\n",
    "X_test = Matrix(test_data[:, :firing_rate]')\n",
    "y_test = test_data.class\n",
    "\n",
    "# Make predictions\n",
    "y_pred = model(X_test)\n",
    "y_pred_labels = Flux.onecold(y_pred, [\"Excitatory\", \"Inhibitory\"])\n",
    "\n",
    "# Calculate accuracy\n",
    "accuracy = mean(y_pred_labels .== y_test)\n",
    "println(\"Model Accuracy: \", accuracy)"
   ]
  },
  {
   "cell_type": "markdown",
   "metadata": {},
   "source": [
    "## Conclusion\n",
    "\n",
    "This project demonstrates how to use Julia and Flux to build a neural network for classifying neurons based on their firing patterns. The final output is the accuracy of the model, which indicates how well the network can classify new neurons.\n"
   ]
  }
 ],
 "metadata": {
  "kernelspec": {
   "display_name": "Julia 1.11.1",
   "language": "julia",
   "name": "julia-1.11"
  },
  "language_info": {
   "file_extension": ".jl",
   "mimetype": "application/julia",
   "name": "julia",
   "version": "1.11.1"
  }
 },
 "nbformat": 4,
 "nbformat_minor": 2
}
